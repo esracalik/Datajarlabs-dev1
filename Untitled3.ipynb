{
 "cells": [
  {
   "cell_type": "code",
   "execution_count": 85,
   "metadata": {},
   "outputs": [
    {
     "name": "stdout",
     "output_type": "stream",
     "text": [
      "{'Pazartesi': 1, 'Salı': 2, 'Çarşamba': 3, 'Perşembe': 4, 'Cuma': 5, 'Cumartesi': 6, 'Pazar': 7}\n",
      "dict_items([('Pazartesi', 1), ('Salı', 2), ('Çarşamba', 3), ('Perşembe', 4), ('Cuma', 5), ('Cumartesi', 6), ('Pazar', 7)]) \n",
      "\n",
      "dict_keys(['Pazartesi', 'Salı', 'Çarşamba', 'Perşembe', 'Cuma', 'Cumartesi', 'Pazar']) \n",
      "\n",
      "dict_values([1, 2, 3, 4, 5, 6, 7]) \n",
      "\n",
      "Cumartesi Pazar\n",
      "{'Pazartesi': 1, 'Salı': 2, 'Çarşamba': 3, 'Perşembe': 4, 'Cuma': 5, 'Cumartesi': 6, 'Pazar': 7}\n",
      "Pazartes Salı Çarşamba Perşembe Cuma\n"
     ]
    }
   ],
   "source": [
    "days={\n",
    "    \"Pazartesi\":1,\n",
    "    \"Salı\":2,\n",
    "    \"Çarşamba\":3, \n",
    "    \"Perşembe\":4,\n",
    "    \"Cuma\":5, \n",
    "    \"Cumartesi\":6, \n",
    "    \"Pazar\":7}\n",
    "\n",
    "print(days)\n",
    "print(days.items(),'\\n')\n",
    "print(days.keys(),'\\n')\n",
    "print(days.values(),'\\n')\n",
    "print(\"Cumartesi\",\"Pazar\")\n",
    "print(days)\n",
    "del days['Cumartesi']\n",
    "del days['Pazar']\n",
    "print(\"Pazartes\", \"Salı\", \"Çarşamba\", \"Perşembe\",\"Cuma\")"
   ]
  },
  {
   "cell_type": "code",
   "execution_count": null,
   "metadata": {},
   "outputs": [],
   "source": [
    "Ayların kaç gün çektiğini karıştırabiliyoruz. Bunun için bir liste oluşturun ancak listenizde ay isimleri ve gün sayıları beraber bulunsun"
   ]
  },
  {
   "cell_type": "code",
   "execution_count": 86,
   "metadata": {},
   "outputs": [],
   "source": [
    "list=[\"Ocak\",\"Şubat\",\"Mart\",\"Nisan\",\"Mayıs\",\"Haziran\",\"Temmuz\",\"Ağustos\",\"Eylül\",\"Ekim\",\"Kasım\",\"Aralık\",\n",
    "     \"1\",\"2\",\"3\",\"4\",\"5\",\"6\",\"7\",\"8\",\"9\",\"10\",\"11\",\"12\",\"13\",\"14\",\"15\",\"16\",\"17\",\"18\",\"19\",\"20\",\"21\",\"22\",\"23\",\"24\",\"25\",\"26\",\"27\",\"28\",\"29\",\"30\"]"
   ]
  },
  {
   "cell_type": "code",
   "execution_count": null,
   "metadata": {},
   "outputs": [],
   "source": [
    "Bilgileri bir önceki listeden alan başka bir ay listesi oluşturun. Bu kez ayları günlerle birlikte listenin içinde iki ayrı listede tutun"
   ]
  },
  {
   "cell_type": "code",
   "execution_count": 89,
   "metadata": {},
   "outputs": [
    {
     "name": "stdout",
     "output_type": "stream",
     "text": [
      "Şubat\n",
      "Pazar\n"
     ]
    }
   ],
   "source": [
    "aylar=[\"Ocak\",\"Şubat\",\"Mart\",\"Nisan\",\"Mayıs\",\"Haziran\",\"Temmuz\",\"Ağustos\",\"Eylül\",\"Ekim\",\"Kasım\",\"Aralık\"]\n",
    "günler=[\"Pazartesi\",\"Salı\",\"Çarşamba\",\"Perşembe\",\"Cuma\",\"Cumartesi\",\"Pazar\"]\n",
    "print(aylar[1])\n",
    "print(günler[6])"
   ]
  },
  {
   "cell_type": "code",
   "execution_count": null,
   "metadata": {},
   "outputs": [],
   "source": [
    "Şimdi ise mevsim mevsim ayrılmış ay listeleri oluşturun. Liste adlarına mevsimlerin adlarını verin"
   ]
  },
  {
   "cell_type": "code",
   "execution_count": 91,
   "metadata": {},
   "outputs": [],
   "source": [
    "İlkbahar=[\"Mart\",\"Nisan\",\"Mayıs\"]\n",
    "yaz=[\"Haziran\",\"Temmuz\",\"Ağustos\"]\n",
    "sonbahar=[\"Eylül\",\"Ekim\",\"Kasım\"]\n",
    "kış=[\"Aralık\",\"Ocak\",\"Şubat\"]\n",
    "mevsim_ayları=[İlkbahar,yaz,sonbahar,kış]"
   ]
  },
  {
   "cell_type": "code",
   "execution_count": null,
   "metadata": {},
   "outputs": [],
   "source": [
    "Son olarak, bir önceki sorudaki listeden yaz ayının kaç gün sürdüğünü hesaplayın."
   ]
  },
  {
   "cell_type": "code",
   "execution_count": 94,
   "metadata": {},
   "outputs": [
    {
     "name": "stdout",
     "output_type": "stream",
     "text": [
      "90\n"
     ]
    }
   ],
   "source": [
    "bir_ay=30\n",
    "print(30*3)"
   ]
  },
  {
   "cell_type": "code",
   "execution_count": null,
   "metadata": {},
   "outputs": [],
   "source": []
  }
 ],
 "metadata": {
  "kernelspec": {
   "display_name": "Python 3",
   "language": "python",
   "name": "python3"
  },
  "language_info": {
   "codemirror_mode": {
    "name": "ipython",
    "version": 3
   },
   "file_extension": ".py",
   "mimetype": "text/x-python",
   "name": "python",
   "nbconvert_exporter": "python",
   "pygments_lexer": "ipython3",
   "version": "3.8.5"
  }
 },
 "nbformat": 4,
 "nbformat_minor": 4
}
